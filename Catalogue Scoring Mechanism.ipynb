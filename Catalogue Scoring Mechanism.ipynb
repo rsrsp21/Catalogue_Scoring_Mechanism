{
 "cells": [
  {
   "cell_type": "markdown",
   "id": "73181b4a",
   "metadata": {},
   "source": [
    "# Catalogue Scoring Mechanism"
   ]
  },
  {
   "cell_type": "markdown",
   "id": "365d673a",
   "metadata": {},
   "source": [
    "## BY TEAM CODE GEEKS"
   ]
  },
  {
   "cell_type": "markdown",
   "id": "b3db7ca1",
   "metadata": {},
   "source": [
    "## Importing required libraries"
   ]
  },
  {
   "cell_type": "code",
   "execution_count": 13,
   "id": "4a2cb097",
   "metadata": {},
   "outputs": [],
   "source": [
    "import pandas as pd\n",
    "import numpy as np"
   ]
  },
  {
   "cell_type": "markdown",
   "id": "c2fc93c2",
   "metadata": {},
   "source": [
    "## Generating dataset"
   ]
  },
  {
   "cell_type": "code",
   "execution_count": 2,
   "id": "2a0ad49f",
   "metadata": {},
   "outputs": [],
   "source": [
    "# Generate synthetic data for 2000 items\n",
    "np.random.seed(42)\n",
    "\n",
    "data = {\n",
    "    'Labelling_Compliance': np.random.uniform(0, 1, 2000),\n",
    "    'Display_Compliance': np.random.uniform(0, 1, 2000),\n",
    "    'Branding_Compliance': np.random.uniform(0, 1, 2000),\n",
    "    'Brand_Authenticity': np.random.uniform(0, 1, 2000),\n",
    "    'Info_Accuracy': np.random.uniform(0, 1, 2000),\n",
    "    'Image_Availability': np.random.uniform(0, 1, 2000),\n",
    "    'Pricing_Info': np.random.uniform(0, 1, 2000),\n",
    "    'Descriptions': np.random.uniform(0, 1, 2000)\n",
    "}\n",
    "\n",
    "df = pd.DataFrame(data)\n",
    "\n",
    "weights = {\n",
    "    'Labelling_Compliance': 0.1,\n",
    "    'Display_Compliance': 0.15,\n",
    "    'Branding_Compliance': 0.15,\n",
    "    'Brand_Authenticity': 0.2,\n",
    "    'Info_Accuracy': 0.1,\n",
    "    'Image_Availability': 0.2,\n",
    "    'Pricing_Info': 0.15,\n",
    "    'Descriptions': 0.1,\n",
    "}\n",
    "\n",
    "# Calculate the 'Score' based on the weighted sum of parameters\n",
    "df['Score'] = df[list(weights.keys())].multiply(list(weights.values())).sum(axis=1) * 100\n",
    "\n",
    "# Save the synthetic dataset to a CSV file\n",
    "df.to_csv('catalog_dataset.csv', index=False)"
   ]
  },
  {
   "cell_type": "code",
   "execution_count": 3,
   "id": "636067e6",
   "metadata": {},
   "outputs": [
    {
     "data": {
      "text/html": [
       "<div>\n",
       "<style scoped>\n",
       "    .dataframe tbody tr th:only-of-type {\n",
       "        vertical-align: middle;\n",
       "    }\n",
       "\n",
       "    .dataframe tbody tr th {\n",
       "        vertical-align: top;\n",
       "    }\n",
       "\n",
       "    .dataframe thead th {\n",
       "        text-align: right;\n",
       "    }\n",
       "</style>\n",
       "<table border=\"1\" class=\"dataframe\">\n",
       "  <thead>\n",
       "    <tr style=\"text-align: right;\">\n",
       "      <th></th>\n",
       "      <th>Labelling_Compliance</th>\n",
       "      <th>Display_Compliance</th>\n",
       "      <th>Branding_Compliance</th>\n",
       "      <th>Brand_Authenticity</th>\n",
       "      <th>Info_Accuracy</th>\n",
       "      <th>Image_Availability</th>\n",
       "      <th>Pricing_Info</th>\n",
       "      <th>Descriptions</th>\n",
       "      <th>Score</th>\n",
       "    </tr>\n",
       "  </thead>\n",
       "  <tbody>\n",
       "    <tr>\n",
       "      <th>0</th>\n",
       "      <td>0.374540</td>\n",
       "      <td>0.261706</td>\n",
       "      <td>0.571996</td>\n",
       "      <td>0.648257</td>\n",
       "      <td>0.720268</td>\n",
       "      <td>0.373641</td>\n",
       "      <td>0.654306</td>\n",
       "      <td>0.073175</td>\n",
       "      <td>54.437905</td>\n",
       "    </tr>\n",
       "    <tr>\n",
       "      <th>1</th>\n",
       "      <td>0.950714</td>\n",
       "      <td>0.246979</td>\n",
       "      <td>0.805432</td>\n",
       "      <td>0.172386</td>\n",
       "      <td>0.687283</td>\n",
       "      <td>0.332912</td>\n",
       "      <td>0.080033</td>\n",
       "      <td>0.089478</td>\n",
       "      <td>44.367382</td>\n",
       "    </tr>\n",
       "    <tr>\n",
       "      <th>2</th>\n",
       "      <td>0.731994</td>\n",
       "      <td>0.906255</td>\n",
       "      <td>0.760161</td>\n",
       "      <td>0.872395</td>\n",
       "      <td>0.095754</td>\n",
       "      <td>0.176154</td>\n",
       "      <td>0.242330</td>\n",
       "      <td>0.651974</td>\n",
       "      <td>64.399368</td>\n",
       "    </tr>\n",
       "    <tr>\n",
       "      <th>3</th>\n",
       "      <td>0.598658</td>\n",
       "      <td>0.249546</td>\n",
       "      <td>0.153900</td>\n",
       "      <td>0.613116</td>\n",
       "      <td>0.922572</td>\n",
       "      <td>0.607267</td>\n",
       "      <td>0.773679</td>\n",
       "      <td>0.486941</td>\n",
       "      <td>62.146256</td>\n",
       "    </tr>\n",
       "    <tr>\n",
       "      <th>4</th>\n",
       "      <td>0.156019</td>\n",
       "      <td>0.271950</td>\n",
       "      <td>0.149249</td>\n",
       "      <td>0.157204</td>\n",
       "      <td>0.568472</td>\n",
       "      <td>0.476624</td>\n",
       "      <td>0.528686</td>\n",
       "      <td>0.790415</td>\n",
       "      <td>42.073898</td>\n",
       "    </tr>\n",
       "    <tr>\n",
       "      <th>...</th>\n",
       "      <td>...</td>\n",
       "      <td>...</td>\n",
       "      <td>...</td>\n",
       "      <td>...</td>\n",
       "      <td>...</td>\n",
       "      <td>...</td>\n",
       "      <td>...</td>\n",
       "      <td>...</td>\n",
       "      <td>...</td>\n",
       "    </tr>\n",
       "    <tr>\n",
       "      <th>1995</th>\n",
       "      <td>0.656955</td>\n",
       "      <td>0.442107</td>\n",
       "      <td>0.684435</td>\n",
       "      <td>0.273160</td>\n",
       "      <td>0.857656</td>\n",
       "      <td>0.004644</td>\n",
       "      <td>0.424338</td>\n",
       "      <td>0.007591</td>\n",
       "      <td>44.041316</td>\n",
       "    </tr>\n",
       "    <tr>\n",
       "      <th>1996</th>\n",
       "      <td>0.956615</td>\n",
       "      <td>0.334401</td>\n",
       "      <td>0.503220</td>\n",
       "      <td>0.209519</td>\n",
       "      <td>0.897509</td>\n",
       "      <td>0.873669</td>\n",
       "      <td>0.915691</td>\n",
       "      <td>0.572671</td>\n",
       "      <td>72.231392</td>\n",
       "    </tr>\n",
       "    <tr>\n",
       "      <th>1997</th>\n",
       "      <td>0.068958</td>\n",
       "      <td>0.394572</td>\n",
       "      <td>0.765149</td>\n",
       "      <td>0.455329</td>\n",
       "      <td>0.946708</td>\n",
       "      <td>0.307325</td>\n",
       "      <td>0.497938</td>\n",
       "      <td>0.717187</td>\n",
       "      <td>57.446495</td>\n",
       "    </tr>\n",
       "    <tr>\n",
       "      <th>1998</th>\n",
       "      <td>0.057055</td>\n",
       "      <td>0.529941</td>\n",
       "      <td>0.485291</td>\n",
       "      <td>0.908438</td>\n",
       "      <td>0.397488</td>\n",
       "      <td>0.938589</td>\n",
       "      <td>0.398837</td>\n",
       "      <td>0.745080</td>\n",
       "      <td>70.147775</td>\n",
       "    </tr>\n",
       "    <tr>\n",
       "      <th>1999</th>\n",
       "      <td>0.282187</td>\n",
       "      <td>0.161367</td>\n",
       "      <td>0.149382</td>\n",
       "      <td>0.104480</td>\n",
       "      <td>0.217140</td>\n",
       "      <td>0.316945</td>\n",
       "      <td>0.750389</td>\n",
       "      <td>0.904977</td>\n",
       "      <td>38.388625</td>\n",
       "    </tr>\n",
       "  </tbody>\n",
       "</table>\n",
       "<p>2000 rows × 9 columns</p>\n",
       "</div>"
      ],
      "text/plain": [
       "      Labelling_Compliance  Display_Compliance  Branding_Compliance  \\\n",
       "0                 0.374540            0.261706             0.571996   \n",
       "1                 0.950714            0.246979             0.805432   \n",
       "2                 0.731994            0.906255             0.760161   \n",
       "3                 0.598658            0.249546             0.153900   \n",
       "4                 0.156019            0.271950             0.149249   \n",
       "...                    ...                 ...                  ...   \n",
       "1995              0.656955            0.442107             0.684435   \n",
       "1996              0.956615            0.334401             0.503220   \n",
       "1997              0.068958            0.394572             0.765149   \n",
       "1998              0.057055            0.529941             0.485291   \n",
       "1999              0.282187            0.161367             0.149382   \n",
       "\n",
       "      Brand_Authenticity  Info_Accuracy  Image_Availability  Pricing_Info  \\\n",
       "0               0.648257       0.720268            0.373641      0.654306   \n",
       "1               0.172386       0.687283            0.332912      0.080033   \n",
       "2               0.872395       0.095754            0.176154      0.242330   \n",
       "3               0.613116       0.922572            0.607267      0.773679   \n",
       "4               0.157204       0.568472            0.476624      0.528686   \n",
       "...                  ...            ...                 ...           ...   \n",
       "1995            0.273160       0.857656            0.004644      0.424338   \n",
       "1996            0.209519       0.897509            0.873669      0.915691   \n",
       "1997            0.455329       0.946708            0.307325      0.497938   \n",
       "1998            0.908438       0.397488            0.938589      0.398837   \n",
       "1999            0.104480       0.217140            0.316945      0.750389   \n",
       "\n",
       "      Descriptions      Score  \n",
       "0         0.073175  54.437905  \n",
       "1         0.089478  44.367382  \n",
       "2         0.651974  64.399368  \n",
       "3         0.486941  62.146256  \n",
       "4         0.790415  42.073898  \n",
       "...            ...        ...  \n",
       "1995      0.007591  44.041316  \n",
       "1996      0.572671  72.231392  \n",
       "1997      0.717187  57.446495  \n",
       "1998      0.745080  70.147775  \n",
       "1999      0.904977  38.388625  \n",
       "\n",
       "[2000 rows x 9 columns]"
      ]
     },
     "execution_count": 3,
     "metadata": {},
     "output_type": "execute_result"
    }
   ],
   "source": [
    "df"
   ]
  },
  {
   "cell_type": "code",
   "execution_count": 19,
   "id": "41f8e053",
   "metadata": {},
   "outputs": [],
   "source": [
    "import seaborn as sb\n",
    "import matplotlib.pyplot as pt"
   ]
  },
  {
   "cell_type": "code",
   "execution_count": 20,
   "id": "ba8e9a65",
   "metadata": {},
   "outputs": [
    {
     "data": {
      "text/plain": [
       "<Axes: ylabel='Score'>"
      ]
     },
     "execution_count": 20,
     "metadata": {},
     "output_type": "execute_result"
    },
    {
     "data": {
      "image/png": "[encoded data removed]",
      "text/plain": [
       "<Figure size 640x480 with 1 Axes>"
      ]
     },
     "metadata": {},
     "output_type": "display_data"
    }
   ],
   "source": [
    "sb.boxplot(data=df, y='Score')"
   ]
  },
  {
   "cell_type": "markdown",
   "id": "6c9e8837",
   "metadata": {},
   "source": [
    "## Importing SVM Model"
   ]
  },
  {
   "cell_type": "code",
   "execution_count": 4,
   "id": "efd87722",
   "metadata": {},
   "outputs": [],
   "source": [
    "from sklearn.model_selection import train_test_split\n",
    "from sklearn.preprocessing import StandardScaler\n",
    "from sklearn.svm import SVR\n",
    "from sklearn.metrics import mean_squared_error\n",
    "from sklearn.metrics import r2_score"
   ]
  },
  {
   "cell_type": "code",
   "execution_count": 5,
   "id": "bc0b5553",
   "metadata": {},
   "outputs": [],
   "source": [
    "# Separate features and target variable\n",
    "X = df.drop('Score', axis=1)\n",
    "y = df['Score']"
   ]
  },
  {
   "cell_type": "code",
   "execution_count": 6,
   "id": "184a853c",
   "metadata": {},
   "outputs": [],
   "source": [
    "# Split the data into training and testing sets\n",
    "X_train, X_test, y_train, y_test = train_test_split(X, y, test_size=0.2, random_state=42)"
   ]
  },
  {
   "cell_type": "markdown",
   "id": "cfc88155",
   "metadata": {},
   "source": [
    "## Standardizing features"
   ]
  },
  {
   "cell_type": "code",
   "execution_count": 7,
   "id": "e71a60c2",
   "metadata": {},
   "outputs": [],
   "source": [
    "# Standardize features for better model performance\n",
    "scaler = StandardScaler()\n",
    "X_train_scaled = scaler.fit_transform(X_train)\n",
    "X_test_scaled = scaler.transform(X_test)"
   ]
  },
  {
   "cell_type": "code",
   "execution_count": 8,
   "id": "0a00fa07",
   "metadata": {},
   "outputs": [
    {
     "data": {
      "text/html": [
       "<style>#sk-container-id-1 {color: black;}#sk-container-id-1 pre{padding: 0;}#sk-container-id-1 div.sk-toggleable {background-color: white;}#sk-container-id-1 label.sk-toggleable__label {cursor: pointer;display: block;width: 100%;margin-bottom: 0;padding: 0.3em;box-sizing: border-box;text-align: center;}#sk-container-id-1 label.sk-toggleable__label-arrow:before {content: \"▸\";float: left;margin-right: 0.25em;color: #696969;}#sk-container-id-1 label.sk-toggleable__label-arrow:hover:before {color: black;}#sk-container-id-1 div.sk-estimator:hover label.sk-toggleable__label-arrow:before {color: black;}#sk-container-id-1 div.sk-toggleable__content {max-height: 0;max-width: 0;overflow: hidden;text-align: left;background-color: #f0f8ff;}#sk-container-id-1 div.sk-toggleable__content pre {margin: 0.2em;color: black;border-radius: 0.25em;background-color: #f0f8ff;}#sk-container-id-1 input.sk-toggleable__control:checked~div.sk-toggleable__content {max-height: 200px;max-width: 100%;overflow: auto;}#sk-container-id-1 input.sk-toggleable__control:checked~label.sk-toggleable__label-arrow:before {content: \"▾\";}#sk-container-id-1 div.sk-estimator input.sk-toggleable__control:checked~label.sk-toggleable__label {background-color: #d4ebff;}#sk-container-id-1 div.sk-label input.sk-toggleable__control:checked~label.sk-toggleable__label {background-color: #d4ebff;}#sk-container-id-1 input.sk-hidden--visually {border: 0;clip: rect(1px 1px 1px 1px);clip: rect(1px, 1px, 1px, 1px);height: 1px;margin: -1px;overflow: hidden;padding: 0;position: absolute;width: 1px;}#sk-container-id-1 div.sk-estimator {font-family: monospace;background-color: #f0f8ff;border: 1px dotted black;border-radius: 0.25em;box-sizing: border-box;margin-bottom: 0.5em;}#sk-container-id-1 div.sk-estimator:hover {background-color: #d4ebff;}#sk-container-id-1 div.sk-parallel-item::after {content: \"\";width: 100%;border-bottom: 1px solid gray;flex-grow: 1;}#sk-container-id-1 div.sk-label:hover label.sk-toggleable__label {background-color: #d4ebff;}#sk-container-id-1 div.sk-serial::before {content: \"\";position: absolute;border-left: 1px solid gray;box-sizing: border-box;top: 0;bottom: 0;left: 50%;z-index: 0;}#sk-container-id-1 div.sk-serial {display: flex;flex-direction: column;align-items: center;background-color: white;padding-right: 0.2em;padding-left: 0.2em;position: relative;}#sk-container-id-1 div.sk-item {position: relative;z-index: 1;}#sk-container-id-1 div.sk-parallel {display: flex;align-items: stretch;justify-content: center;background-color: white;position: relative;}#sk-container-id-1 div.sk-item::before, #sk-container-id-1 div.sk-parallel-item::before {content: \"\";position: absolute;border-left: 1px solid gray;box-sizing: border-box;top: 0;bottom: 0;left: 50%;z-index: -1;}#sk-container-id-1 div.sk-parallel-item {display: flex;flex-direction: column;z-index: 1;position: relative;background-color: white;}#sk-container-id-1 div.sk-parallel-item:first-child::after {align-self: flex-end;width: 50%;}#sk-container-id-1 div.sk-parallel-item:last-child::after {align-self: flex-start;width: 50%;}#sk-container-id-1 div.sk-parallel-item:only-child::after {width: 0;}#sk-container-id-1 div.sk-dashed-wrapped {border: 1px dashed gray;margin: 0 0.4em 0.5em 0.4em;box-sizing: border-box;padding-bottom: 0.4em;background-color: white;}#sk-container-id-1 div.sk-label label {font-family: monospace;font-weight: bold;display: inline-block;line-height: 1.2em;}#sk-container-id-1 div.sk-label-container {text-align: center;}#sk-container-id-1 div.sk-container {/* jupyter's `normalize.less` sets `[hidden] { display: none; }` but bootstrap.min.css set `[hidden] { display: none !important; }` so we also need the `!important` here to be able to override the default hidden behavior on the sphinx rendered scikit-learn.org. See: https://github.com/scikit-learn/scikit-learn/issues/21755 */display: inline-block !important;position: relative;}#sk-container-id-1 div.sk-text-repr-fallback {display: none;}</style><div id=\"sk-container-id-1\" class=\"sk-top-container\"><div class=\"sk-text-repr-fallback\"><pre>SVR(kernel=&#x27;linear&#x27;)</pre><b>In a Jupyter environment, please rerun this cell to show the HTML representation or trust the notebook. <br />On GitHub, the HTML representation is unable to render, please try loading this page with nbviewer.org.</b></div><div class=\"sk-container\" hidden><div class=\"sk-item\"><div class=\"sk-estimator sk-toggleable\"><input class=\"sk-toggleable__control sk-hidden--visually\" id=\"sk-estimator-id-1\" type=\"checkbox\" checked><label for=\"sk-estimator-id-1\" class=\"sk-toggleable__label sk-toggleable__label-arrow\">SVR</label><div class=\"sk-toggleable__content\"><pre>SVR(kernel=&#x27;linear&#x27;)</pre></div></div></div></div></div>"
      ],
      "text/plain": [
       "SVR(kernel='linear')"
      ]
     },
     "execution_count": 8,
     "metadata": {},
     "output_type": "execute_result"
    }
   ],
   "source": [
    "# Build and train the Support Vector Regression (SVR) model\n",
    "svr_model = SVR(kernel='linear')\n",
    "svr_model.fit(X_train_scaled, y_train)"
   ]
  },
  {
   "cell_type": "code",
   "execution_count": 9,
   "id": "e442f369",
   "metadata": {},
   "outputs": [],
   "source": [
    "# Evaluate the model on the test set\n",
    "predictions = svr_model.predict(X_test_scaled)"
   ]
  },
  {
   "cell_type": "markdown",
   "id": "8c76398f",
   "metadata": {},
   "source": [
    "## Metrics Evaluation"
   ]
  },
  {
   "cell_type": "code",
   "execution_count": 14,
   "id": "c8f54ab0",
   "metadata": {},
   "outputs": [
    {
     "name": "stdout",
     "output_type": "stream",
     "text": [
      "Mean Squared Error: 0.001606943325243505\n",
      "R2 score: 0.9999882955565659\n"
     ]
    }
   ],
   "source": [
    "mse = mean_squared_error(y_test, predictions)\n",
    "print(f'Mean Squared Error: {mse}')\n",
    "\n",
    "r2 = r2_score(y_test, predictions)\n",
    "print(f'R2 score: {r2}')"
   ]
  },
  {
   "cell_type": "code",
   "execution_count": 11,
   "id": "052e178f",
   "metadata": {},
   "outputs": [
    {
     "data": {
      "text/plain": [
       "Index(['Labelling_Compliance', 'Display_Compliance', 'Branding_Compliance',\n",
       "       'Brand_Authenticity', 'Info_Accuracy', 'Image_Availability',\n",
       "       'Pricing_Info', 'Descriptions', 'Score'],\n",
       "      dtype='object')"
      ]
     },
     "execution_count": 11,
     "metadata": {},
     "output_type": "execute_result"
    }
   ],
   "source": [
    "df.columns"
   ]
  },
  {
   "cell_type": "markdown",
   "id": "2e000146",
   "metadata": {},
   "source": [
    "## Testing and predicting on random dataset"
   ]
  },
  {
   "cell_type": "code",
   "execution_count": 12,
   "id": "8e38d975",
   "metadata": {},
   "outputs": [
    {
     "name": "stdout",
     "output_type": "stream",
     "text": [
      "Predicted Catalog Score 1: 53.28867947441919\n",
      "Predicted Catalog Score 2: 74.74505182520187\n",
      "Predicted Catalog Score 3: 42.61019416837617\n",
      "Predicted Catalog Score 4: 46.044864665017855\n",
      "Predicted Catalog Score 5: 48.949951346312524\n",
      "Predicted Catalog Score 6: 62.49914409125044\n",
      "Predicted Catalog Score 7: 45.843295392685405\n",
      "Predicted Catalog Score 8: 53.70660804023956\n",
      "Predicted Catalog Score 9: 46.189487955886996\n",
      "Predicted Catalog Score 10: 53.33355354647305\n",
      "Predicted Catalog Score 11: 83.19771449569522\n",
      "Predicted Catalog Score 12: 61.87480190282422\n",
      "Predicted Catalog Score 13: 66.07985858766729\n",
      "Predicted Catalog Score 14: 43.413495683172016\n",
      "Predicted Catalog Score 15: 58.84960624858706\n",
      "Predicted Catalog Score 16: 62.48554440632749\n",
      "Predicted Catalog Score 17: 60.17935275866845\n",
      "Predicted Catalog Score 18: 78.43861780224398\n",
      "Predicted Catalog Score 19: 66.31843863706624\n",
      "Predicted Catalog Score 20: 53.73690984779743\n",
      "Predicted Catalog Score 21: 47.032481630537106\n",
      "Predicted Catalog Score 22: 65.57342869755618\n",
      "Predicted Catalog Score 23: 55.59372530097032\n",
      "Predicted Catalog Score 24: 74.63473895639893\n",
      "Predicted Catalog Score 25: 43.56184310235561\n",
      "Predicted Catalog Score 26: 70.12553097943317\n",
      "Predicted Catalog Score 27: 65.66972178727457\n",
      "Predicted Catalog Score 28: 49.97807577781133\n",
      "Predicted Catalog Score 29: 49.58872200453332\n",
      "Predicted Catalog Score 30: 35.263002136323074\n",
      "Predicted Catalog Score 31: 44.45559127296172\n",
      "Predicted Catalog Score 32: 45.98897214369498\n",
      "Predicted Catalog Score 33: 54.7539310056303\n",
      "Predicted Catalog Score 34: 60.61377142390547\n",
      "Predicted Catalog Score 35: 67.09165340708277\n",
      "Predicted Catalog Score 36: 50.41286855425326\n",
      "Predicted Catalog Score 37: 55.18875461480974\n",
      "Predicted Catalog Score 38: 41.940291377206776\n",
      "Predicted Catalog Score 39: 64.68263549980432\n",
      "Predicted Catalog Score 40: 55.32743463046233\n",
      "Predicted Catalog Score 41: 47.01397539946899\n",
      "Predicted Catalog Score 42: 47.51825830733782\n",
      "Predicted Catalog Score 43: 58.35054640949213\n",
      "Predicted Catalog Score 44: 70.6169816848124\n",
      "Predicted Catalog Score 45: 32.461727403594054\n",
      "Predicted Catalog Score 46: 51.405754006073046\n",
      "Predicted Catalog Score 47: 67.99986814020947\n",
      "Predicted Catalog Score 48: 43.608652190006154\n",
      "Predicted Catalog Score 49: 45.28547329657874\n",
      "Predicted Catalog Score 50: 38.60271468185205\n",
      "Predicted Catalog Score 51: 50.73987693322324\n",
      "Predicted Catalog Score 52: 49.23118244276474\n",
      "Predicted Catalog Score 53: 47.55152235796794\n",
      "Predicted Catalog Score 54: 76.24302668536406\n",
      "Predicted Catalog Score 55: 43.186216100246284\n",
      "Predicted Catalog Score 56: 66.34346016286497\n",
      "Predicted Catalog Score 57: 46.57523049483446\n",
      "Predicted Catalog Score 58: 53.73719050023252\n",
      "Predicted Catalog Score 59: 93.41623013338497\n",
      "Predicted Catalog Score 60: 50.39706028337747\n",
      "Predicted Catalog Score 61: 54.00737164824184\n",
      "Predicted Catalog Score 62: 60.54087722875291\n",
      "Predicted Catalog Score 63: 82.23674727078765\n",
      "Predicted Catalog Score 64: 59.320431805402286\n",
      "Predicted Catalog Score 65: 55.70149441471923\n",
      "Predicted Catalog Score 66: 59.31509419128499\n",
      "Predicted Catalog Score 67: 55.32144917736745\n",
      "Predicted Catalog Score 68: 69.1133472021184\n",
      "Predicted Catalog Score 69: 74.38000116765043\n",
      "Predicted Catalog Score 70: 56.12884431887358\n",
      "Predicted Catalog Score 71: 50.14209391300358\n",
      "Predicted Catalog Score 72: 72.48414528555264\n",
      "Predicted Catalog Score 73: 75.19213139381291\n",
      "Predicted Catalog Score 74: 64.24089397351884\n",
      "Predicted Catalog Score 75: 62.48698375385268\n",
      "Predicted Catalog Score 76: 55.62304222317615\n",
      "Predicted Catalog Score 77: 66.50063270389731\n",
      "Predicted Catalog Score 78: 62.57147901568\n",
      "Predicted Catalog Score 79: 41.19623729695567\n",
      "Predicted Catalog Score 80: 49.74191554174723\n",
      "Predicted Catalog Score 81: 91.7375066120414\n",
      "Predicted Catalog Score 82: 42.260170665885774\n",
      "Predicted Catalog Score 83: 67.97544516532824\n",
      "Predicted Catalog Score 84: 60.880967913761495\n",
      "Predicted Catalog Score 85: 43.02079356442368\n",
      "Predicted Catalog Score 86: 80.81870615461781\n",
      "Predicted Catalog Score 87: 52.8881358837445\n",
      "Predicted Catalog Score 88: 60.05770128162966\n",
      "Predicted Catalog Score 89: 54.29548919556256\n",
      "Predicted Catalog Score 90: 38.62175733512122\n",
      "Predicted Catalog Score 91: 43.072724094915\n",
      "Predicted Catalog Score 92: 64.18032257276471\n",
      "Predicted Catalog Score 93: 56.66324676932339\n",
      "Predicted Catalog Score 94: 49.80122366105506\n",
      "Predicted Catalog Score 95: 68.15922139136654\n",
      "Predicted Catalog Score 96: 60.752972343522345\n",
      "Predicted Catalog Score 97: 75.43771416796915\n",
      "Predicted Catalog Score 98: 55.31359382554351\n",
      "Predicted Catalog Score 99: 49.62913969475123\n",
      "Predicted Catalog Score 100: 55.142031767777674\n"
     ]
    }
   ],
   "source": [
    "np.random.seed(21)\n",
    "\n",
    "data1 = {\n",
    "    'Labelling_Compliance': np.random.uniform(0, 1, 100),\n",
    "    'Display_Compliance': np.random.uniform(0, 1, 100),\n",
    "    'Branding_Compliance': np.random.uniform(0, 1, 100),\n",
    "    'Brand_Authenticity': np.random.uniform(0, 1, 100),\n",
    "    'Info_Accuracy': np.random.uniform(0, 1, 100),\n",
    "    'Image_Availability': np.random.uniform(0, 1, 100),\n",
    "    'Pricing_Info': np.random.uniform(0, 1, 100),\n",
    "    'Descriptions': np.random.uniform(0, 1, 100)\n",
    "}\n",
    "\n",
    "df1 = pd.DataFrame(data1)\n",
    "\n",
    "features = ['Labelling_Compliance', 'Display_Compliance', 'Branding_Compliance',\n",
    "            'Brand_Authenticity', 'Info_Accuracy', 'Image_Availability',\n",
    "            'Pricing_Info', 'Descriptions']\n",
    "\n",
    "# Scale the new data using the same scaler\n",
    "new_catalog_scaled = scaler.transform(df1[features])  # Assuming 'features' are the columns used during training\n",
    "\n",
    "# Use the trained SVR model to predict the 'Score' for the new data\n",
    "predicted_score = svr_model.predict(new_catalog_scaled)\n",
    "\n",
    "for i in range(0,100):\n",
    "    print(f'Predicted Catalog Score {i+1}: {predicted_score[i]}')\n",
    "\n",
    "# Add the 'Score' column to the DataFrame\n",
    "df1['Score'] = predicted_score\n",
    "\n",
    "# Save the synthetic dataset to a CSV file\n",
    "df1.to_csv('catalog_dataset1.csv', index=False)"
   ]
  },
  {
   "cell_type": "code",
   "execution_count": 21,
   "id": "efc84a70",
   "metadata": {},
   "outputs": [
    {
     "data": {
      "text/plain": [
       "<Axes: ylabel='Score'>"
      ]
     },
     "execution_count": 21,
     "metadata": {},
     "output_type": "execute_result"
    },
    {
     "data": {
      "image/png": "[encoded data removed]",
      "text/plain": [
       "<Figure size 640x480 with 1 Axes>"
      ]
     },
     "metadata": {},
     "output_type": "display_data"
    }
   ],
   "source": [
    "sb.boxplot(data=df1, y='Score')"
   ]
  },
  {
   "cell_type": "code",
   "execution_count": null,
   "id": "b90bb9fc",
   "metadata": {},
   "outputs": [],
   "source": []
  }
 ],
 "metadata": {
  "kernelspec": {
   "display_name": "Python 3 (ipykernel)",
   "language": "python",
   "name": "python3"
  },
  "language_info": {
   "codemirror_mode": {
    "name": "ipython",
    "version": 3
   },
   "file_extension": ".py",
   "mimetype": "text/x-python",
   "name": "python",
   "nbconvert_exporter": "python",
   "pygments_lexer": "ipython3",
   "version": "3.11.5"
  }
 },
 "nbformat": 4,
 "nbformat_minor": 5
}
